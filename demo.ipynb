{
 "cells": [
  {
   "cell_type": "code",
   "execution_count": 1,
   "metadata": {},
   "outputs": [
    {
     "name": "stdout",
     "output_type": "stream",
     "text": [
      "HELLO WORLD\n"
     ]
    }
   ],
   "source": [
    "# 1.WAS TO PRINT \"HELLO WORLD\"\n",
    "print(\"HELLO WORLD\")\n",
    "\n"
   ]
  },
  {
   "cell_type": "code",
   "execution_count": 2,
   "metadata": {},
   "outputs": [
    {
     "data": {
      "text/plain": [
       "(150, 120, 250)"
      ]
     },
     "execution_count": 2,
     "metadata": {},
     "output_type": "execute_result"
    }
   ],
   "source": [
    "#2.WAS TO INTIALIZE MULTIVARIABLE VALUE ARE 150,120,250\n",
    "a,b,c = 150,120,250\n",
    "a,b,c\n",
    "\n",
    "\n",
    "\n"
   ]
  },
  {
   "cell_type": "code",
   "execution_count": 3,
   "metadata": {},
   "outputs": [
    {
     "data": {
      "text/plain": [
       "set"
      ]
     },
     "execution_count": 3,
     "metadata": {},
     "output_type": "execute_result"
    }
   ],
   "source": [
    "# WAS TO PRINT THE TYPE OF THE DATA IN GIVEN VALUE\n",
    "a={10,20}\n",
    "type(a)\n"
   ]
  },
  {
   "cell_type": "code",
   "execution_count": 4,
   "metadata": {},
   "outputs": [
    {
     "data": {
      "text/plain": [
       "2341033861728"
      ]
     },
     "execution_count": 4,
     "metadata": {},
     "output_type": "execute_result"
    }
   ],
   "source": [
    "#3.WAS TO PRINT THE ADDRESS OF THE MEMORY BLOCK IN GIVEN VALUE\n",
    "a={10,20,30}\n",
    "id (a)\n",
    "\n"
   ]
  },
  {
   "cell_type": "code",
   "execution_count": 5,
   "metadata": {},
   "outputs": [
    {
     "name": "stdout",
     "output_type": "stream",
     "text": [
      "jaya\n",
      "21\n",
      "8974835080\n",
      "5.0\n"
     ]
    }
   ],
   "source": [
    "#4.WAS TO PRINT YOUR DETAILS ,FIRST STORE YOUR DETAIS,EXTRACT THE VALUEAND DISPLAY IT \n",
    "name=\"jaya\"\n",
    "age=21\n",
    "phone=8974835080\n",
    "email=\"jaya17792@gmail.com\"\n",
    "height=5.0\n",
    "pancard=True\n",
    "print (name)\n",
    "print (age)\n",
    "print (phone)\n",
    "print(height)\n",
    "\n",
    "\n"
   ]
  },
  {
   "cell_type": "code",
   "execution_count": 6,
   "metadata": {},
   "outputs": [
    {
     "data": {
      "text/plain": [
       "('bye', 'haii')"
      ]
     },
     "execution_count": 6,
     "metadata": {},
     "output_type": "execute_result"
    }
   ],
   "source": [
    "#5.WAS TO SWAP TO VALUE ,EITH TEMPORARY VARIABLE\n",
    "x=\"haii\"\n",
    "y=\"bye\"\n",
    "temp=x\n",
    "x=y\n",
    "y=temp\n",
    "x,y\n"
   ]
  },
  {
   "cell_type": "code",
   "execution_count": 7,
   "metadata": {},
   "outputs": [
    {
     "data": {
      "text/plain": [
       "({30, 40}, [10, 20])"
      ]
     },
     "execution_count": 7,
     "metadata": {},
     "output_type": "execute_result"
    }
   ],
   "source": [
    "# 6.WAS TO SWAP TO VALUE WITHOUT TEMPERORY VARIABLE\n",
    "m=[10,20]\n",
    "n={30,40}\n",
    "m,n=n,m\n",
    "m\n",
    "n\n",
    "m,n"
   ]
  },
  {
   "cell_type": "code",
   "execution_count": 8,
   "metadata": {},
   "outputs": [
    {
     "data": {
      "text/plain": [
       "[10, 20, 30]"
      ]
     },
     "execution_count": 8,
     "metadata": {},
     "output_type": "execute_result"
    }
   ],
   "source": [
    "#7.WAS TO INTIALIZE A VALUE AND PRINT THE VALUE ,AFTER PRINT THE VALUE THEN RE INTIALIZE THE NEW VALUE TO THE EXISTING VARIABLE AND DISPLAY THE VALUE\n",
    "a={'a':\"pyspiders\"}\n",
    "a\n",
    "a['a']\n",
    "a['a']='qspider'\n",
    "a\n",
    "a=[10,20,30]\n",
    "a\n",
    "\n"
   ]
  },
  {
   "cell_type": "code",
   "execution_count": 9,
   "metadata": {},
   "outputs": [
    {
     "name": "stdout",
     "output_type": "stream",
     "text": [
      "10\n"
     ]
    },
    {
     "data": {
      "text/plain": [
       "['1', '0']"
      ]
     },
     "execution_count": 9,
     "metadata": {},
     "output_type": "execute_result"
    }
   ],
   "source": [
    "#8.WAS TO CONVERT SINGLE TO MULTIVALUE DATA TYPE\n",
    "INPUT=a=10\n",
    "output=['1','0']\n",
    "a=10\n",
    "a=str(a)\n",
    "print(a)\n",
    "a=list(a)\n",
    "a"
   ]
  },
  {
   "cell_type": "code",
   "execution_count": 10,
   "metadata": {},
   "outputs": [
    {
     "name": "stdout",
     "output_type": "stream",
     "text": [
      "(10,)\n"
     ]
    }
   ],
   "source": [
    "a=[10]\n",
    "a=tuple (a)\n",
    "print(tuple(a))"
   ]
  },
  {
   "cell_type": "code",
   "execution_count": 11,
   "metadata": {},
   "outputs": [
    {
     "name": "stdout",
     "output_type": "stream",
     "text": [
      "helloworld\n",
      "[10, 20, 30, 40, 50, 60]\n",
      "[10, 20, 30, 'h', 'a', 'i', 'i']\n",
      "[10, 20, 30, 'a', 'b']\n",
      "[10, 20, 30, 'a', 'b']\n"
     ]
    }
   ],
   "source": [
    "#9.WAS TP CONCAT THE MULTIVAILUE DATA TYPE (STR,LIST,TUPLE,SET,DICT)\n",
    "x=\"hello\"\n",
    "x+=\"world\"\n",
    "print(x)\n",
    "y=[10,20,30]\n",
    "y+=[40,50,60]\n",
    "print(y)\n",
    "y=[10,20,30]\n",
    "y+=\"haii\"\n",
    "print(y)\n",
    "y=[10,20,30]\n",
    "y+={'a','b'}\n",
    "print(y)\n",
    "y=[10,20,30]\n",
    "y+={'a':100,'b':200}\n",
    "print(y)\n"
   ]
  },
  {
   "cell_type": "code",
   "execution_count": 12,
   "metadata": {},
   "outputs": [
    {
     "name": "stdout",
     "output_type": "stream",
     "text": [
      "10\n"
     ]
    }
   ],
   "source": [
    "a=10\n",
    "print(a)"
   ]
  },
  {
   "cell_type": "code",
   "execution_count": 13,
   "metadata": {},
   "outputs": [
    {
     "data": {
      "text/plain": [
       "2"
      ]
     },
     "execution_count": 13,
     "metadata": {},
     "output_type": "execute_result"
    }
   ],
   "source": [
    "#10.WAS TO CHECK THE LENGHT OF THE COLLECTION\n",
    "t=(10,20)\n",
    "len(t)\n"
   ]
  },
  {
   "cell_type": "code",
   "execution_count": 14,
   "metadata": {},
   "outputs": [
    {
     "data": {
      "text/plain": [
       "40"
      ]
     },
     "execution_count": 14,
     "metadata": {},
     "output_type": "execute_result"
    }
   ],
   "source": [
    "#11.WAS TO CHECK FIND OUT THE MIDDLE VALUE OF THE GIVEN COLECTION\n",
    "a=[200,300,40,500]\n",
    "a[len(a)//2]"
   ]
  },
  {
   "cell_type": "code",
   "execution_count": 15,
   "metadata": {},
   "outputs": [
    {
     "data": {
      "text/plain": [
       "'haiihow are u'"
      ]
     },
     "execution_count": 15,
     "metadata": {},
     "output_type": "execute_result"
    }
   ],
   "source": [
    "#12.WAS TO CONCAT THE NEW STRING INTO TH STARTING OF GIVEN STRING\n",
    "a=\"how are u\"\n",
    "b=\"haii\"\n",
    "a=b+a\n",
    "a"
   ]
  },
  {
   "cell_type": "code",
   "execution_count": 16,
   "metadata": {},
   "outputs": [
    {
     "data": {
      "text/plain": [
       "'helloworld'"
      ]
     },
     "execution_count": 16,
     "metadata": {},
     "output_type": "execute_result"
    }
   ],
   "source": [
    "#13.WAS TO CONCAT THE NEW STRING INTOTHE ENDING OF THE GIVEN STRING\n",
    "a=\"hello\"\n",
    "b=\"world\"\n",
    "a=a+b\n",
    "a"
   ]
  },
  {
   "cell_type": "code",
   "execution_count": 17,
   "metadata": {},
   "outputs": [
    {
     "data": {
      "text/plain": [
       "'apble'"
      ]
     },
     "execution_count": 17,
     "metadata": {},
     "output_type": "execute_result"
    }
   ],
   "source": [
    "#14.WAS TO CONCAT THE NEW STRING INTO THE MIDDLE OF THE GIVEN STRING\n",
    "s=\"apple\"\n",
    "s[0:2]+\"b\"+s[3:]"
   ]
  },
  {
   "cell_type": "code",
   "execution_count": 18,
   "metadata": {},
   "outputs": [
    {
     "data": {
      "text/plain": [
       "'PYSPlDERS'"
      ]
     },
     "execution_count": 18,
     "metadata": {},
     "output_type": "execute_result"
    }
   ],
   "source": [
    " #15.WAS TO MODIFY THE NEW CHARACTER OF THE GIVEN STRING\n",
    "a=\"PYSPIDERS\"\n",
    "a[len(a)//2]\n",
    "a=a[0:len(a)//2]+\"l\"+a[(len(a)//2)+1:]\n",
    "a"
   ]
  },
  {
   "cell_type": "code",
   "execution_count": 19,
   "metadata": {},
   "outputs": [
    {
     "data": {
      "text/plain": [
       "'pysPIDers'"
      ]
     },
     "execution_count": 19,
     "metadata": {},
     "output_type": "execute_result"
    }
   ],
   "source": [
    "#16.WAS MODIFY THE SEQUENCE OF CHARACTER IN GIVEN STRING\n",
    "s=\"pyspiders\"\n",
    "s=s[0:3]+\"PID\"+s[6:]\n",
    "s"
   ]
  },
  {
   "cell_type": "code",
   "execution_count": 20,
   "metadata": {},
   "outputs": [
    {
     "data": {
      "text/plain": [
       "'pyspiDers'"
      ]
     },
     "execution_count": 20,
     "metadata": {},
     "output_type": "execute_result"
    }
   ],
   "source": [
    "#17. EAS TP REPLACE THE OLD CHARACTER INTO A NEW CHARACTER OF STRING\n",
    "a=\"pyspiders\"\n",
    "a=a[:-4]+\"D\"+a[-3:]\n",
    "a"
   ]
  },
  {
   "cell_type": "code",
   "execution_count": 21,
   "metadata": {},
   "outputs": [
    {
     "data": {
      "text/plain": [
       "'pypiders'"
      ]
     },
     "execution_count": 21,
     "metadata": {},
     "output_type": "execute_result"
    }
   ],
   "source": [
    "#18.WAS TO DELETE THE SPECIFIC CHARACTER IN THE GIVEN STRING\n",
    "p=\"pyspiders\"\n",
    "p=p[:2]+p[3:]\n",
    "p"
   ]
  },
  {
   "cell_type": "code",
   "execution_count": 22,
   "metadata": {},
   "outputs": [
    {
     "data": {
      "text/plain": [
       "'pysers'"
      ]
     },
     "execution_count": 22,
     "metadata": {},
     "output_type": "execute_result"
    }
   ],
   "source": [
    "#19.WAS TO DELETE THE SEQUENCE OF CHARACTER IN THE GIVEN STRING\n",
    "j=\"pyspiders\"\n",
    "j=j[:3]+j[6:]\n",
    "j"
   ]
  },
  {
   "cell_type": "code",
   "execution_count": 23,
   "metadata": {},
   "outputs": [
    {
     "data": {
      "text/plain": [
       "'haii how are u'"
      ]
     },
     "execution_count": 23,
     "metadata": {},
     "output_type": "execute_result"
    }
   ],
   "source": [
    "#20.WAS TO CONCAT THE NEW STRING INTO THE SPECIFIC POSITION OF THE GIVEN STRING\n",
    "s=\"haii are u\"\n",
    "s=s[0:4+1]+\"how\"+s[4:]\n",
    "s"
   ]
  },
  {
   "cell_type": "code",
   "execution_count": 24,
   "metadata": {},
   "outputs": [
    {
     "data": {
      "text/plain": [
       "[1, 2, 3, 'a', 'b']"
      ]
     },
     "execution_count": 24,
     "metadata": {},
     "output_type": "execute_result"
    }
   ],
   "source": [
    "#21.WAS TO CONCAT THE NEW VALUE INTO THE STARTING OF THE GIVEN LIST\n",
    "k=[1,2,3]\n",
    "k+=['a','b']\n",
    "k"
   ]
  },
  {
   "cell_type": "code",
   "execution_count": 25,
   "metadata": {},
   "outputs": [
    {
     "data": {
      "text/plain": [
       "['a', 'b', 'c', 10, 20]"
      ]
     },
     "execution_count": 25,
     "metadata": {},
     "output_type": "execute_result"
    }
   ],
   "source": [
    "#22.WAS TO CONCAT THE NEW VALUE INTO THE ENDING OF THE GIVEN LIST\n",
    "r=['a','b','c']\n",
    "r=r+[10,20]\n",
    "r"
   ]
  },
  {
   "cell_type": "code",
   "execution_count": 26,
   "metadata": {},
   "outputs": [
    {
     "data": {
      "text/plain": [
       "[10, 150.12, 10, 20, 'TRUEHAII']"
      ]
     },
     "execution_count": 26,
     "metadata": {},
     "output_type": "execute_result"
    }
   ],
   "source": [
    "#23.WAS TO CONCAT THE NEW VALUE INTO THE MIDDLE OF THE GIVEN LIST\n",
    "r=[10,150.12,'TRUE''HAII']\n",
    "r[2:-2]=[10,20]\n",
    "r\n",
    "\n"
   ]
  },
  {
   "cell_type": "code",
   "execution_count": 27,
   "metadata": {},
   "outputs": [
    {
     "data": {
      "text/plain": [
       "[10, 150.12, [100, 200], 'haii']"
      ]
     },
     "execution_count": 27,
     "metadata": {},
     "output_type": "execute_result"
    }
   ],
   "source": [
    "#25.WAS TO CONCAT THE NEW VALUE INTO THE SPECIFIC POSITION OF THE GIVEN LIST\n",
    "a=[10,150.12,\"true\",\"haii\"]\n",
    "a[2]=[100,200]\n",
    "a"
   ]
  },
  {
   "cell_type": "code",
   "execution_count": 28,
   "metadata": {},
   "outputs": [
    {
     "data": {
      "text/plain": [
       "[10, (15+6j), 'true', 'haii']"
      ]
     },
     "execution_count": 28,
     "metadata": {},
     "output_type": "execute_result"
    }
   ],
   "source": [
    "# 26.WAS TO MODIFY THE NEW VALUE INTOTHE SPECIFIC POSITION OF THE GIVEN LIST\n",
    "a=[10,150.12,\"true\",\"haii\"]\n",
    "a[1]=15+6j\n",
    "a"
   ]
  },
  {
   "cell_type": "code",
   "execution_count": 29,
   "metadata": {},
   "outputs": [
    {
     "data": {
      "text/plain": [
       "[{'abc': 150}, 150.12, 'true', 'haii']"
      ]
     },
     "execution_count": 29,
     "metadata": {},
     "output_type": "execute_result"
    }
   ],
   "source": [
    "#27. WAS TO MODIFY THE NEW VALUE INNTO THE STARTING OF THE GIVEN LST\n",
    "a=[10,150.12,\"true\",\"haii\"]\n",
    "a[0]={\"abc\":150}\n",
    "a"
   ]
  },
  {
   "cell_type": "code",
   "execution_count": 30,
   "metadata": {},
   "outputs": [
    {
     "data": {
      "text/plain": [
       "[10, 150.12, 'true', 'JAYA']"
      ]
     },
     "execution_count": 30,
     "metadata": {},
     "output_type": "execute_result"
    }
   ],
   "source": [
    "#28 WAS TO MODIFY  THE NEW VALUE ENDING OF THE GIVEN LIST\n",
    "a=[10,150.12,\"true\",\"haii\"]\n",
    "a[-1]=\"JAYA\"\n",
    "a\n"
   ]
  },
  {
   "cell_type": "code",
   "execution_count": 31,
   "metadata": {},
   "outputs": [
    {
     "data": {
      "text/plain": [
       "[10, 150.12, 'haii', 'helloworld']"
      ]
     },
     "execution_count": 31,
     "metadata": {},
     "output_type": "execute_result"
    }
   ],
   "source": [
    "#29.WAS TO MODIFT THE NEW VALUE IN THE MIDDLE OF THE GIVEN LIST\n",
    "a=[10,150.12,\"true\",\"helloworld\"]\n",
    "a[len(a)//2]=\"haii\"\n",
    "a"
   ]
  },
  {
   "cell_type": "code",
   "execution_count": 32,
   "metadata": {},
   "outputs": [
    {
     "data": {
      "text/plain": [
       "['a', 'b', 'c', 'd', 50]"
      ]
     },
     "execution_count": 32,
     "metadata": {},
     "output_type": "execute_result"
    }
   ],
   "source": [
    "#30.WAS TO MODIFY THE FIRST 4 POSTON VALUE IN THE GIVEN LIST\n",
    "a=[10,20,30,40,50,]\n",
    "a[0:4]=\"abcd\"\n",
    "a"
   ]
  },
  {
   "cell_type": "code",
   "execution_count": 33,
   "metadata": {},
   "outputs": [
    {
     "data": {
      "text/plain": [
       "[1, 'a', 3, 'b', 5, 'c', 7, 'd', 9]"
      ]
     },
     "execution_count": 33,
     "metadata": {},
     "output_type": "execute_result"
    }
   ],
   "source": [
    "#31.WAS TO MODIFY THE SEQUENCE IN AGIVEN LIST\n",
    "d=[1,2,3,4,5,6,7,8,9]\n",
    "d[1::2]\n",
    "d[1::2]=\"abcd\"\n",
    "d\n"
   ]
  },
  {
   "cell_type": "code",
   "execution_count": 34,
   "metadata": {},
   "outputs": [
    {
     "name": "stdout",
     "output_type": "stream",
     "text": [
      "[1, 2, 3, 4, 6, 7, 8, 9]\n"
     ]
    }
   ],
   "source": [
    "#32.WAS TO DELETE THE VALUE IN THE SPCIFIC POSITION OF THE GIVEN LIST\n",
    "s=[1,2,3,4,5,6,7,8,9]\n",
    "del s[4]\n",
    "print (s)\n"
   ]
  },
  {
   "cell_type": "code",
   "execution_count": 35,
   "metadata": {},
   "outputs": [
    {
     "name": "stdout",
     "output_type": "stream",
     "text": [
      "[1, 2, 3, 4, 5, 6, 7, 8]\n"
     ]
    }
   ],
   "source": [
    "#33.WAS TO DELETE THE NEW VALUE IN THE ENDING OF THE LIST\n",
    "j=[1,2,3,4,5,6,7,8,9]\n",
    "del j[-1]\n",
    "print(j)"
   ]
  },
  {
   "cell_type": "code",
   "execution_count": 36,
   "metadata": {},
   "outputs": [
    {
     "data": {
      "text/plain": [
       "[1, 2, 3, 4, 6, 7, 8, 9]"
      ]
     },
     "execution_count": 36,
     "metadata": {},
     "output_type": "execute_result"
    }
   ],
   "source": [
    "#34.WAS TO DELETE THE NEW VALUE INTO THE MIDDLE OF THE LIST\n",
    "d=[1,2,3,4,5,6,7,8,9]\n",
    "del d[len(d)//2]\n",
    "d"
   ]
  },
  {
   "cell_type": "code",
   "execution_count": 37,
   "metadata": {},
   "outputs": [
    {
     "data": {
      "text/plain": [
       "[2, 3, 4, 5, 6, 7, 8, 9]"
      ]
     },
     "execution_count": 37,
     "metadata": {},
     "output_type": "execute_result"
    }
   ],
   "source": [
    "#35.WAS TO DELETE THE NEW VALUEINTHE STARTING OF THE GIVEN LIST\n",
    "d=[1,2,3,4,5,6,7,8,9]\n",
    "del d[0]\n",
    "d"
   ]
  },
  {
   "cell_type": "code",
   "execution_count": 38,
   "metadata": {},
   "outputs": [
    {
     "data": {
      "text/plain": [
       "(10, 20, 30, 40, 50, 60, 70)"
      ]
     },
     "execution_count": 38,
     "metadata": {},
     "output_type": "execute_result"
    }
   ],
   "source": [
    "#36.WAS TO CONCAT THE VALUE INTO THE GIVEN STARTING OF THE TUPLE\n",
    "a=(10,20,30,40,50)\n",
    "a+=(60,70)\n",
    "a"
   ]
  },
  {
   "cell_type": "code",
   "execution_count": 39,
   "metadata": {},
   "outputs": [
    {
     "data": {
      "text/plain": [
       "(10, 20, 30, 40, 50)"
      ]
     },
     "execution_count": 39,
     "metadata": {},
     "output_type": "execute_result"
    }
   ],
   "source": [
    "#37.WAS TO CONCAT THE VALUE INTO THE MIDDLE OF TUPLE\n",
    "a=(10,20,30,40,50)\n",
    "a\n"
   ]
  },
  {
   "cell_type": "code",
   "execution_count": 40,
   "metadata": {},
   "outputs": [],
   "source": [
    "#38.WAS TO CONCAT THE VALUE INTO THE GIVEN ENDING OF THE TUPLE"
   ]
  },
  {
   "cell_type": "code",
   "execution_count": 41,
   "metadata": {},
   "outputs": [],
   "source": [
    "#39.WAS TO MODIFY THE SEQUENCE IN A GIVEN TUPLE"
   ]
  },
  {
   "cell_type": "code",
   "execution_count": 42,
   "metadata": {},
   "outputs": [
    {
     "data": {
      "text/plain": [
       "(10, 20, 30, 40, 50)"
      ]
     },
     "execution_count": 42,
     "metadata": {},
     "output_type": "execute_result"
    }
   ],
   "source": [
    "#40.WAS TO DELETE THE SEQUENCE OF VALUE IN GIVEN TUPLE\n",
    "a=(10,20,30,40,50)\n",
    "a"
   ]
  },
  {
   "cell_type": "code",
   "execution_count": 43,
   "metadata": {},
   "outputs": [
    {
     "name": "stdout",
     "output_type": "stream",
     "text": [
      "{1, 2, 3, 4, 5, 6, 20, 10}\n"
     ]
    }
   ],
   "source": [
    "#41.WAS TO CONCAT THE NEW VALUE IN TO THE SET\n",
    "a={1,2,3,4,5,6}\n",
    "a|={10,20,}\n",
    "print(a)\n"
   ]
  },
  {
   "cell_type": "code",
   "execution_count": 44,
   "metadata": {},
   "outputs": [
    {
     "data": {
      "text/plain": [
       "{1, 2, 3, 10, 20}"
      ]
     },
     "execution_count": 44,
     "metadata": {},
     "output_type": "execute_result"
    }
   ],
   "source": [
    "#42.WAS TO DELETE THE SPEDIIC VALUE IN TO THE SET\n",
    "s={1, 2, 3, 4, 5, 6, 20, 10}\n",
    "s=s-{4,5,6}\n",
    "s"
   ]
  },
  {
   "cell_type": "code",
   "execution_count": 45,
   "metadata": {},
   "outputs": [
    {
     "data": {
      "text/plain": [
       "{'a': 150, 'b': 500}"
      ]
     },
     "execution_count": 45,
     "metadata": {},
     "output_type": "execute_result"
    }
   ],
   "source": [
    "#43.WAS TO CONCAT THE NEW KEY AND VALUE IN THE DICT\n",
    "d={'a':150}\n",
    "d['b']=500\n",
    "d"
   ]
  },
  {
   "cell_type": "code",
   "execution_count": 46,
   "metadata": {},
   "outputs": [
    {
     "data": {
      "text/plain": [
       "{'a': 150, 'b': 500, 'd': 250}"
      ]
     },
     "execution_count": 46,
     "metadata": {},
     "output_type": "execute_result"
    }
   ],
   "source": [
    "#45. WAS TO DELETE THE SPECIFIC KEY AND VALUEIN THE GIVEN DICT\n",
    "d={'a': 150, 'b': 500,'c':600,'d':250}\n",
    "d['c']\n",
    "del d['c']\n",
    "d"
   ]
  },
  {
   "cell_type": "code",
   "execution_count": 47,
   "metadata": {},
   "outputs": [
    {
     "data": {
      "text/plain": [
       "{10: 156, 20: 'haii'}"
      ]
     },
     "execution_count": 47,
     "metadata": {},
     "output_type": "execute_result"
    }
   ],
   "source": [
    "#46.WAS TO MODIFY THE SPECIFIC IN THE GIVEN DICT\n",
    "x={10:150,20:\"haii\"}\n",
    "x[10]=156\n",
    "x\n"
   ]
  },
  {
   "cell_type": "code",
   "execution_count": 48,
   "metadata": {},
   "outputs": [
    {
     "data": {
      "text/plain": [
       "[10, 20, 30, 10, 20, 30]"
      ]
     },
     "execution_count": 48,
     "metadata": {},
     "output_type": "execute_result"
    }
   ],
   "source": [
    "#47.WAS TO CONCAT THE LIST AN TUPLE VALUE VALUES BY USING TYPE CASTING\n",
    "k=[10,20,30]\n",
    "t=(10,20,30,)\n",
    "k+list(t)"
   ]
  },
  {
   "cell_type": "code",
   "execution_count": 49,
   "metadata": {},
   "outputs": [
    {
     "data": {
      "text/plain": [
       "[20, 30, 40, 50, 60]"
      ]
     },
     "execution_count": 49,
     "metadata": {},
     "output_type": "execute_result"
    }
   ],
   "source": [
    "#48 WAS TO CONCAT THE LIST VALUE AND TUPLE VALUE WITHOUT USING TYPE CASTING\n",
    "k=[20,30,40]\n",
    "l=(50,60)\n",
    "k+=l\n",
    "k"
   ]
  },
  {
   "cell_type": "code",
   "execution_count": 50,
   "metadata": {},
   "outputs": [
    {
     "name": "stdout",
     "output_type": "stream",
     "text": [
      "True\n"
     ]
    }
   ],
   "source": [
    "#49.WAE CHECK GIVEN NUMBER DIVIDSLE BY 3\n",
    "n=9\n",
    "print(n%3==0)"
   ]
  },
  {
   "cell_type": "code",
   "execution_count": 51,
   "metadata": {},
   "outputs": [
    {
     "name": "stdout",
     "output_type": "stream",
     "text": [
      "True\n"
     ]
    }
   ],
   "source": [
    "#50.WAE TO CHECK THE GIVEN NUMBER IS DIVIIBLE BY 2 AND 6\n",
    "n=12\n",
    "print(n%2==0 and n%6==0)"
   ]
  },
  {
   "cell_type": "code",
   "execution_count": 52,
   "metadata": {},
   "outputs": [
    {
     "data": {
      "text/plain": [
       "True"
      ]
     },
     "execution_count": 52,
     "metadata": {},
     "output_type": "execute_result"
    }
   ],
   "source": [
    "#51.WAE TO CHECK GIVEN INTEGER NUMBER IS DIVISIBLE BY 3\n",
    "n=1999\n",
    "n%10\n",
    "n=1996\n",
    "((n%10)%3)==0\n"
   ]
  },
  {
   "cell_type": "code",
   "execution_count": 53,
   "metadata": {},
   "outputs": [
    {
     "data": {
      "text/plain": [
       "True"
      ]
     },
     "execution_count": 53,
     "metadata": {},
     "output_type": "execute_result"
    }
   ],
   "source": [
    "#52.WAE TO CHECK LAST DIGIT IS DIVISIBLE BY 3 FROM GIVEN INTEGER WITH OUT TYPE CASTING\n",
    "n=2026\n",
    "(int(str(n)[-1]))%3==0"
   ]
  },
  {
   "cell_type": "code",
   "execution_count": 54,
   "metadata": {},
   "outputs": [
    {
     "data": {
      "text/plain": [
       "True"
      ]
     },
     "execution_count": 54,
     "metadata": {},
     "output_type": "execute_result"
    }
   ],
   "source": [
    "#53. WAE TO CHECK THE GIVEN NUMBER IS GREATER THAN 150\n",
    "n=500\n",
    "n>150"
   ]
  },
  {
   "cell_type": "code",
   "execution_count": 55,
   "metadata": {},
   "outputs": [
    {
     "name": "stdout",
     "output_type": "stream",
     "text": [
      "False\n",
      "True\n"
     ]
    }
   ],
   "source": [
    "#54.WEA TO CHECK THE GIVEN NUMBER IS GREATERTHAN OR EQUALNTO 100\n",
    "n=100\n",
    "print(n>=150)\n",
    "print(n>=100)"
   ]
  },
  {
   "cell_type": "code",
   "execution_count": 56,
   "metadata": {},
   "outputs": [
    {
     "name": "stdout",
     "output_type": "stream",
     "text": [
      "True\n"
     ]
    }
   ],
   "source": [
    "#55. WAE TO CHECK THE GIVEN NUMBER IS LESS THAN 150,PRINT  THE RESULT\n",
    "n=60\n",
    "print(n<150)"
   ]
  },
  {
   "cell_type": "code",
   "execution_count": 57,
   "metadata": {},
   "outputs": [
    {
     "name": "stdout",
     "output_type": "stream",
     "text": [
      "True\n"
     ]
    }
   ],
   "source": [
    "#56.WAE TO CHECK THE GIVEN NUMBER IS LESSTHAN OR EQUAL TO 100\n",
    "n=100\n",
    "print(n<=100)"
   ]
  },
  {
   "cell_type": "code",
   "execution_count": 58,
   "metadata": {},
   "outputs": [
    {
     "name": "stdout",
     "output_type": "stream",
     "text": [
      "True\n"
     ]
    }
   ],
   "source": [
    "#57. WAE TO CHECK THE IVEN NUMBER IS GREATER THAN 15ANDLESSTHAN 24\n",
    "n=22\n",
    "print(n>15 and n<24)"
   ]
  },
  {
   "cell_type": "code",
   "execution_count": 59,
   "metadata": {},
   "outputs": [
    {
     "data": {
      "text/plain": [
       "True"
      ]
     },
     "execution_count": 59,
     "metadata": {},
     "output_type": "execute_result"
    }
   ],
   "source": [
    "#58.WAE TO CHECK TH GIVN NUMBER IS EVEN\n",
    "n=10\n",
    "n%2==0"
   ]
  },
  {
   "cell_type": "code",
   "execution_count": 60,
   "metadata": {},
   "outputs": [
    {
     "data": {
      "text/plain": [
       "True"
      ]
     },
     "execution_count": 60,
     "metadata": {},
     "output_type": "execute_result"
    }
   ],
   "source": [
    "#59.WAE TO CHECK TH GIVN NUMBER IS odd\n",
    "n=11\n",
    "n%2!=0"
   ]
  },
  {
   "cell_type": "code",
   "execution_count": 61,
   "metadata": {},
   "outputs": [
    {
     "name": "stdout",
     "output_type": "stream",
     "text": [
      "True\n"
     ]
    }
   ],
   "source": [
    "#60.WAE TO CHECK THE GIVEN NUMBER IS DIVISIBLE BY 3 AND ALSO THE NUMBER GREATER THAN 22\n",
    "n=24\n",
    "print(n%3==0 and n>22)"
   ]
  },
  {
   "cell_type": "code",
   "execution_count": 62,
   "metadata": {},
   "outputs": [
    {
     "name": "stdout",
     "output_type": "stream",
     "text": [
      "helloworld\n"
     ]
    }
   ],
   "source": [
    "#61. WAS TO  print helloworld\n",
    "print(\"helloworld\")"
   ]
  },
  {
   "cell_type": "code",
   "execution_count": 1,
   "metadata": {},
   "outputs": [
    {
     "name": "stdout",
     "output_type": "stream",
     "text": [
      "Good Morning\n"
     ]
    }
   ],
   "source": [
    "print('Good Morning')"
   ]
  },
  {
   "cell_type": "code",
   "execution_count": 1,
   "metadata": {},
   "outputs": [
    {
     "name": "stdout",
     "output_type": "stream",
     "text": [
      "abcabcabcabcabcabc\n"
     ]
    }
   ],
   "source": [
    "#62.WAE TO CHECK PERFORM THE REPLICATION OF AGIVEN STRING WITH 6\n",
    "s=\"abc\"\n",
    "print(s*6)"
   ]
  },
  {
   "cell_type": "code",
   "execution_count": 2,
   "metadata": {},
   "outputs": [
    {
     "name": "stdout",
     "output_type": "stream",
     "text": [
      "True\n"
     ]
    }
   ],
   "source": [
    "#63. WAE TO CHECK PERFORM THE LENGTH OF THE COLLECTION IS EVEN OR NOT\n",
    "a=\"haii\"\n",
    "len(a)\n",
    "print(len(a)%2==0)\n"
   ]
  },
  {
   "cell_type": "code",
   "execution_count": 3,
   "metadata": {},
   "outputs": [
    {
     "name": "stdout",
     "output_type": "stream",
     "text": [
      "True\n"
     ]
    }
   ],
   "source": [
    "#64.WAE TO CHECK PERFORM THE LENGHT OF COLLECTION IS LSTHSN 55AND GREATERTHAN 16\n",
    "r=\"abcdefghijklmnopqrstuvwxyz\"\n",
    "print(16<len(r)and len(r)<55)"
   ]
  },
  {
   "cell_type": "code",
   "execution_count": 4,
   "metadata": {},
   "outputs": [
    {
     "name": "stdout",
     "output_type": "stream",
     "text": [
      "False\n"
     ]
    }
   ],
   "source": [
    "#65. WAE TO CHECK PERFORM LENGTH OF COLLECTION IS DIVISIBLE BY 5AND ODD\n",
    "r=\"abcdefghijklmnopqrstuvwxyz\"\n",
    "print (len(r)%5==0 and len(r)%2!=0)"
   ]
  },
  {
   "cell_type": "code",
   "execution_count": 6,
   "metadata": {},
   "outputs": [
    {
     "name": "stdout",
     "output_type": "stream",
     "text": [
      "True\n"
     ]
    }
   ],
   "source": [
    "#66. WAE TO EXTRACT THE MIDDLE POSITION OF GIVEN COLLECTION(STR,LIST,TPLE)\n",
    "s=[10,('a','b'), [10,20]]\n",
    "res=type(s[len(s)//2])\n",
    "print(res==str or res==list or res==tuple)"
   ]
  },
  {
   "cell_type": "code",
   "execution_count": 11,
   "metadata": {},
   "outputs": [
    {
     "name": "stdout",
     "output_type": "stream",
     "text": [
      "True\n"
     ]
    }
   ],
   "source": [
    "#67. WAE TO CHECK THE GIVEN NUMBER IS GREATER THAN 20 AND LESS THAN 30AND IT SHOULD BE EVEN\n",
    "n=24\n",
    "print(20<n<30 and n%2==0)"
   ]
  },
  {
   "cell_type": "code",
   "execution_count": 12,
   "metadata": {},
   "outputs": [
    {
     "name": "stdout",
     "output_type": "stream",
     "text": [
      "False\n"
     ]
    }
   ],
   "source": [
    "#68.WAE TO CHECK N0. IS EVEN AND IT SHOULD BE LESSTHAN 120\n",
    "n=136\n",
    "print(n%2==0 and n<120)"
   ]
  },
  {
   "cell_type": "code",
   "execution_count": 13,
   "metadata": {},
   "outputs": [
    {
     "name": "stdout",
     "output_type": "stream",
     "text": [
      "False\n"
     ]
    }
   ],
   "source": [
    "#69.WAE  TO CHECK GIVEN NO.IS EVEN AND FROM 40 TO 70 PRESENT \n",
    "n=65\n",
    "print(n%2==0 and 40<n<70)"
   ]
  },
  {
   "cell_type": "code",
   "execution_count": 14,
   "metadata": {},
   "outputs": [
    {
     "name": "stdout",
     "output_type": "stream",
     "text": [
      "True\n"
     ]
    }
   ],
   "source": [
    "#70.WAE TO CHECK THE GIVEN NO IS ODD AND GREATER THAN 97\n",
    "\n",
    "n=99\n",
    "print(n%2!=0 and n>97)"
   ]
  },
  {
   "cell_type": "code",
   "execution_count": 16,
   "metadata": {},
   "outputs": [
    {
     "name": "stdout",
     "output_type": "stream",
     "text": [
      "True\n"
     ]
    }
   ],
   "source": [
    "#71.WAE  TO CHECK THE GIVEN NUMBER IS LESSTHAN 122 AND GRETAERTHAN 48 AND THENUMBER SHOULD BE DIVISIBLE BY 4\n",
    "n=64\n",
    "print(n%4==0 and n<122 and n>48)"
   ]
  },
  {
   "cell_type": "code",
   "execution_count": 17,
   "metadata": {},
   "outputs": [
    {
     "name": "stdout",
     "output_type": "stream",
     "text": [
      "True\n"
     ]
    }
   ],
   "source": [
    "#72.WAE TO CHECK GIVEN NUMBER IS DIVISIBLE BY 3 OR 5DIPLAYING THE VALUE\n",
    "n=20\n",
    "print(n%5==0 or n%3==0)"
   ]
  },
  {
   "cell_type": "code",
   "execution_count": 18,
   "metadata": {},
   "outputs": [
    {
     "name": "stdout",
     "output_type": "stream",
     "text": [
      "True\n"
     ]
    }
   ],
   "source": [
    "#73.WAE TO CHECK TH GIVEN NUMBER IS BETWEEN 100TO200 INCLUDING THE LIMIT\n",
    "n=143\n",
    "print (100<n<200)"
   ]
  },
  {
   "cell_type": "code",
   "execution_count": 19,
   "metadata": {},
   "outputs": [
    {
     "name": "stdout",
     "output_type": "stream",
     "text": [
      "True\n"
     ]
    }
   ],
   "source": [
    "#75.WAE TO CHECK TH GIVEN NUMBER IS BETWEEN 100TO200 \n",
    "n=150\n",
    "print(100<n<200)"
   ]
  },
  {
   "cell_type": "code",
   "execution_count": 21,
   "metadata": {},
   "outputs": [
    {
     "name": "stdout",
     "output_type": "stream",
     "text": [
      "False\n"
     ]
    }
   ],
   "source": [
    "#76.WAE TO CHECK THE GIVEN STRING LAST CHARACTER ASCII VALUE SHOULD BE DIVIBSIBLE 5OR NOT\n",
    "s=\"apple\"\n",
    "print (ord(s[-1])%5==0)"
   ]
  },
  {
   "cell_type": "code",
   "execution_count": 22,
   "metadata": {},
   "outputs": [
    {
     "name": "stdout",
     "output_type": "stream",
     "text": [
      "True\n"
     ]
    }
   ],
   "source": [
    "#77. WAE TO CHEK THE GIVEN NUMBER IS PRESENT BETWEEN 60 TO 130 AND THE NUMBER SHOULD BE DIVISBLE BY 3 AND 4 AND LAST DIGIT LEESTHAN 9\n",
    "n=120\n",
    "print(60<=n<=130 and n%3==0 and n%4==0 and n%10<9)"
   ]
  },
  {
   "cell_type": "code",
   "execution_count": 23,
   "metadata": {},
   "outputs": [
    {
     "name": "stdout",
     "output_type": "stream",
     "text": [
      "True\n"
     ]
    }
   ],
   "source": [
    "#78. WAE TO CHECK THE GIVEN NUMBER IS EVEN OR LESSTHAN 25\n",
    "n=24\n",
    "print(n%2==0 or n>25)"
   ]
  },
  {
   "cell_type": "code",
   "execution_count": 24,
   "metadata": {},
   "outputs": [
    {
     "name": "stdout",
     "output_type": "stream",
     "text": [
      "True\n"
     ]
    }
   ],
   "source": [
    "#79.WAE  TO CHECK THE GIVEN NUMBER IS EVEN OR GREATERTHAN 25\n",
    "n=30 \n",
    "print(n%2==0 or n>25)"
   ]
  },
  {
   "cell_type": "code",
   "execution_count": 25,
   "metadata": {},
   "outputs": [
    {
     "name": "stdout",
     "output_type": "stream",
     "text": [
      "False\n"
     ]
    }
   ],
   "source": [
    "#80.WAE TO CHECK THE GIVEN NUMBER IS  divisble by 3 or 5\n",
    "n=21\n",
    "print (n%3==0 and n%5==0)"
   ]
  },
  {
   "cell_type": "code",
   "execution_count": 26,
   "metadata": {},
   "outputs": [
    {
     "name": "stdout",
     "output_type": "stream",
     "text": [
      "True\n"
     ]
    }
   ],
   "source": [
    "#81 WAETO CHECK THE GIVEN NUMBER IS NOT EVEN NUMBER\n",
    "n=27\n",
    "print(n%2!=0)"
   ]
  },
  {
   "cell_type": "code",
   "execution_count": 27,
   "metadata": {},
   "outputs": [
    {
     "name": "stdout",
     "output_type": "stream",
     "text": [
      "True\n"
     ]
    }
   ],
   "source": [
    "#82 WAE TO CHECK THE GIVEN NUMBER IS NOT AN ODD NUMBER\n",
    "n=4\n",
    "print(n%2==0)"
   ]
  },
  {
   "cell_type": "code",
   "execution_count": 28,
   "metadata": {},
   "outputs": [
    {
     "name": "stdout",
     "output_type": "stream",
     "text": [
      "True\n"
     ]
    }
   ],
   "source": [
    "#83 WAE TO CHECK THE GIVEN NUMBER IS  NOT DIVISIBLE BY 3\n",
    "n=2\n",
    "print(n%3!=0)"
   ]
  },
  {
   "cell_type": "code",
   "execution_count": 29,
   "metadata": {},
   "outputs": [
    {
     "name": "stdout",
     "output_type": "stream",
     "text": [
      "True\n"
     ]
    }
   ],
   "source": [
    "#84.WAE TO CHECK THE GIVEN NUMBER IS NOT DIVISIBLE BY 3 AND 5\n",
    "n=7\n",
    "print(n%3!=0 and n%5!=0)"
   ]
  },
  {
   "cell_type": "code",
   "execution_count": 30,
   "metadata": {},
   "outputs": [
    {
     "name": "stdout",
     "output_type": "stream",
     "text": [
      "True\n"
     ]
    }
   ],
   "source": [
    "#85..WAE TO CHECK THE GIVEN NUMBER IS NOT DIVISIBLE BY 3 or 5\n",
    "n=10\n",
    "print(n%3!=0 or n%5!=o)"
   ]
  },
  {
   "cell_type": "code",
   "execution_count": null,
   "metadata": {},
   "outputs": [],
   "source": [
    "#"
   ]
  }
 ],
 "metadata": {
  "kernelspec": {
   "display_name": "Python 3",
   "language": "python",
   "name": "python3"
  },
  "language_info": {
   "codemirror_mode": {
    "name": "ipython",
    "version": 3
   },
   "file_extension": ".py",
   "mimetype": "text/x-python",
   "name": "python",
   "nbconvert_exporter": "python",
   "pygments_lexer": "ipython3",
   "version": "3.11.4"
  },
  "orig_nbformat": 4
 },
 "nbformat": 4,
 "nbformat_minor": 2
}
